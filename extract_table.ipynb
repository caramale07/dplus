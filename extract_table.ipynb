{
 "cells": [
  {
   "cell_type": "code",
   "execution_count": 1,
   "metadata": {},
   "outputs": [],
   "source": [
    "import pdfplumber\n",
    "import pandas as pd"
   ]
  },
  {
   "cell_type": "code",
   "execution_count": 2,
   "metadata": {},
   "outputs": [],
   "source": [
    "PDF_PATH = \"DP.pdf\""
   ]
  },
  {
   "cell_type": "code",
   "execution_count": 5,
   "metadata": {},
   "outputs": [
    {
     "data": {
      "text/plain": [
       "172"
      ]
     },
     "execution_count": 5,
     "metadata": {},
     "output_type": "execute_result"
    }
   ],
   "source": [
    "tables = []\n",
    "with pdfplumber.open(PDF_PATH) as pdf:\n",
    "        for page in pdf.pages:\n",
    "            t = page.extract_tables()\n",
    "            if t:\n",
    "                tables.extend(t)    \n",
    "len(tables)                "
   ]
  },
  {
   "cell_type": "code",
   "execution_count": 10,
   "metadata": {},
   "outputs": [
    {
     "data": {
      "text/html": [
       "<div>\n",
       "<style scoped>\n",
       "    .dataframe tbody tr th:only-of-type {\n",
       "        vertical-align: middle;\n",
       "    }\n",
       "\n",
       "    .dataframe tbody tr th {\n",
       "        vertical-align: top;\n",
       "    }\n",
       "\n",
       "    .dataframe thead th {\n",
       "        text-align: right;\n",
       "    }\n",
       "</style>\n",
       "<table border=\"1\" class=\"dataframe\">\n",
       "  <thead>\n",
       "    <tr style=\"text-align: right;\">\n",
       "      <th></th>\n",
       "      <th>Nömrə</th>\n",
       "      <th>Təhsil səviyyəsi</th>\n",
       "      <th>Ölkə</th>\n",
       "      <th>Universitet</th>\n",
       "      <th>Təhsil proqramı</th>\n",
       "    </tr>\n",
       "  </thead>\n",
       "  <tbody>\n",
       "    <tr>\n",
       "      <th>0</th>\n",
       "      <td>1</td>\n",
       "      <td>bakalavriat</td>\n",
       "      <td>Almaniya Federativ Respublikası</td>\n",
       "      <td>\"Technical University of Munich\"</td>\n",
       "      <td>\"Architecture\"</td>\n",
       "    </tr>\n",
       "    <tr>\n",
       "      <th>1</th>\n",
       "      <td>2</td>\n",
       "      <td>bakalavriat</td>\n",
       "      <td>Almaniya Federativ Respublikası</td>\n",
       "      <td>\"Technical University of Munich\"</td>\n",
       "      <td>\"Landscape Architecture and Landscape Planning\"</td>\n",
       "    </tr>\n",
       "    <tr>\n",
       "      <th>2</th>\n",
       "      <td>3</td>\n",
       "      <td>bakalavriat</td>\n",
       "      <td>Birləşmiş Ərəb Əmirlikləri</td>\n",
       "      <td>\"Abu Dhabi University\"</td>\n",
       "      <td>\"Architecture\"</td>\n",
       "    </tr>\n",
       "    <tr>\n",
       "      <th>3</th>\n",
       "      <td>4</td>\n",
       "      <td>bakalavriat</td>\n",
       "      <td>Birləşmiş Ərəb Əmirlikləri</td>\n",
       "      <td>\"Abu Dhabi University\"</td>\n",
       "      <td>\"Interior Design\"</td>\n",
       "    </tr>\n",
       "    <tr>\n",
       "      <th>4</th>\n",
       "      <td>5</td>\n",
       "      <td>bakalavriat</td>\n",
       "      <td>Birləşmiş Ərəb Əmirlikləri</td>\n",
       "      <td>\"United Arab Emirates University\"</td>\n",
       "      <td>\"Architectural Engineering\"</td>\n",
       "    </tr>\n",
       "  </tbody>\n",
       "</table>\n",
       "</div>"
      ],
      "text/plain": [
       "  Nömrə Təhsil səviyyəsi                             Ölkə  \\\n",
       "0     1      bakalavriat  Almaniya Federativ Respublikası   \n",
       "1     2      bakalavriat  Almaniya Federativ Respublikası   \n",
       "2     3      bakalavriat       Birləşmiş Ərəb Əmirlikləri   \n",
       "3     4      bakalavriat       Birləşmiş Ərəb Əmirlikləri   \n",
       "4     5      bakalavriat       Birləşmiş Ərəb Əmirlikləri   \n",
       "\n",
       "                         Universitet  \\\n",
       "0   \"Technical University of Munich\"   \n",
       "1   \"Technical University of Munich\"   \n",
       "2             \"Abu Dhabi University\"   \n",
       "3             \"Abu Dhabi University\"   \n",
       "4  \"United Arab Emirates University\"   \n",
       "\n",
       "                                   Təhsil proqramı  \n",
       "0                                   \"Architecture\"  \n",
       "1  \"Landscape Architecture and Landscape Planning\"  \n",
       "2                                   \"Architecture\"  \n",
       "3                                \"Interior Design\"  \n",
       "4                      \"Architectural Engineering\"  "
      ]
     },
     "execution_count": 10,
     "metadata": {},
     "output_type": "execute_result"
    }
   ],
   "source": [
    "final_table = []\n",
    "for table in tables:\n",
    "    for row in table:\n",
    "        if row[1] == \"bakalavriat\" or row[1] == \"magistratura\":\n",
    "            final_table.append(row)\n",
    "\n",
    "df = pd.DataFrame(final_table, columns=['Nömrə', 'Təhsil səviyyəsi', 'Ölkə', 'Universitet', 'Təhsil proqramı'])\n",
    "df.head()"
   ]
  },
  {
   "cell_type": "code",
   "execution_count": 11,
   "metadata": {},
   "outputs": [
    {
     "data": {
      "text/plain": [
       "(4405, 5)"
      ]
     },
     "execution_count": 11,
     "metadata": {},
     "output_type": "execute_result"
    }
   ],
   "source": [
    "df.shape"
   ]
  },
  {
   "cell_type": "code",
   "execution_count": 14,
   "metadata": {},
   "outputs": [
    {
     "data": {
      "text/html": [
       "<div>\n",
       "<style scoped>\n",
       "    .dataframe tbody tr th:only-of-type {\n",
       "        vertical-align: middle;\n",
       "    }\n",
       "\n",
       "    .dataframe tbody tr th {\n",
       "        vertical-align: top;\n",
       "    }\n",
       "\n",
       "    .dataframe thead th {\n",
       "        text-align: right;\n",
       "    }\n",
       "</style>\n",
       "<table border=\"1\" class=\"dataframe\">\n",
       "  <thead>\n",
       "    <tr style=\"text-align: right;\">\n",
       "      <th></th>\n",
       "      <th>id</th>\n",
       "      <th>education_level</th>\n",
       "      <th>country</th>\n",
       "      <th>university</th>\n",
       "      <th>program</th>\n",
       "    </tr>\n",
       "  </thead>\n",
       "  <tbody>\n",
       "    <tr>\n",
       "      <th>0</th>\n",
       "      <td>1</td>\n",
       "      <td>bakalavriat</td>\n",
       "      <td>Almaniya Federativ Respublikası</td>\n",
       "      <td>\"Technical University of Munich\"</td>\n",
       "      <td>\"Architecture\"</td>\n",
       "    </tr>\n",
       "    <tr>\n",
       "      <th>1</th>\n",
       "      <td>2</td>\n",
       "      <td>bakalavriat</td>\n",
       "      <td>Almaniya Federativ Respublikası</td>\n",
       "      <td>\"Technical University of Munich\"</td>\n",
       "      <td>\"Landscape Architecture and Landscape Planning\"</td>\n",
       "    </tr>\n",
       "    <tr>\n",
       "      <th>2</th>\n",
       "      <td>3</td>\n",
       "      <td>bakalavriat</td>\n",
       "      <td>Birləşmiş Ərəb Əmirlikləri</td>\n",
       "      <td>\"Abu Dhabi University\"</td>\n",
       "      <td>\"Architecture\"</td>\n",
       "    </tr>\n",
       "    <tr>\n",
       "      <th>3</th>\n",
       "      <td>4</td>\n",
       "      <td>bakalavriat</td>\n",
       "      <td>Birləşmiş Ərəb Əmirlikləri</td>\n",
       "      <td>\"Abu Dhabi University\"</td>\n",
       "      <td>\"Interior Design\"</td>\n",
       "    </tr>\n",
       "    <tr>\n",
       "      <th>4</th>\n",
       "      <td>5</td>\n",
       "      <td>bakalavriat</td>\n",
       "      <td>Birləşmiş Ərəb Əmirlikləri</td>\n",
       "      <td>\"United Arab Emirates University\"</td>\n",
       "      <td>\"Architectural Engineering\"</td>\n",
       "    </tr>\n",
       "  </tbody>\n",
       "</table>\n",
       "</div>"
      ],
      "text/plain": [
       "   id education_level                          country  \\\n",
       "0   1     bakalavriat  Almaniya Federativ Respublikası   \n",
       "1   2     bakalavriat  Almaniya Federativ Respublikası   \n",
       "2   3     bakalavriat       Birləşmiş Ərəb Əmirlikləri   \n",
       "3   4     bakalavriat       Birləşmiş Ərəb Əmirlikləri   \n",
       "4   5     bakalavriat       Birləşmiş Ərəb Əmirlikləri   \n",
       "\n",
       "                          university  \\\n",
       "0   \"Technical University of Munich\"   \n",
       "1   \"Technical University of Munich\"   \n",
       "2             \"Abu Dhabi University\"   \n",
       "3             \"Abu Dhabi University\"   \n",
       "4  \"United Arab Emirates University\"   \n",
       "\n",
       "                                           program  \n",
       "0                                   \"Architecture\"  \n",
       "1  \"Landscape Architecture and Landscape Planning\"  \n",
       "2                                   \"Architecture\"  \n",
       "3                                \"Interior Design\"  \n",
       "4                      \"Architectural Engineering\"  "
      ]
     },
     "execution_count": 14,
     "metadata": {},
     "output_type": "execute_result"
    }
   ],
   "source": [
    "# let's rename the columns to English and add ID column instead of the first column\n",
    "df.columns = ['id', 'education_level', 'country', 'university', 'program']\n",
    "df['id'] = range(1, len(df) + 1)\n",
    "df.head()"
   ]
  },
  {
   "cell_type": "code",
   "execution_count": 15,
   "metadata": {},
   "outputs": [],
   "source": [
    "df.to_csv(\"DP.csv\", index=False)"
   ]
  },
  {
   "cell_type": "code",
   "execution_count": null,
   "metadata": {},
   "outputs": [],
   "source": []
  }
 ],
 "metadata": {
  "kernelspec": {
   "display_name": "Python 3",
   "language": "python",
   "name": "python3"
  },
  "language_info": {
   "codemirror_mode": {
    "name": "ipython",
    "version": 3
   },
   "file_extension": ".py",
   "mimetype": "text/x-python",
   "name": "python",
   "nbconvert_exporter": "python",
   "pygments_lexer": "ipython3",
   "version": "3.12.2"
  }
 },
 "nbformat": 4,
 "nbformat_minor": 2
}
